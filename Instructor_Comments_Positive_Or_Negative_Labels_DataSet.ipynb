{
  "nbformat": 4,
  "nbformat_minor": 0,
  "metadata": {
    "colab": {
      "provenance": [],
      "collapsed_sections": [],
      "authorship_tag": "ABX9TyOXWYWQyOERiulcyRFwkPx1",
      "include_colab_link": true
    },
    "kernelspec": {
      "name": "python3",
      "display_name": "Python 3"
    },
    "language_info": {
      "name": "python"
    }
  },
  "cells": [
    {
      "cell_type": "markdown",
      "metadata": {
        "id": "view-in-github",
        "colab_type": "text"
      },
      "source": [
        "<a href=\"https://colab.research.google.com/github/Arminismus/Professor-Popularity-NLP/blob/main/Instructor_Comments_Positive_Or_Negative_Labels_DataSet.ipynb\" target=\"_parent\"><img src=\"https://colab.research.google.com/assets/colab-badge.svg\" alt=\"Open In Colab\"/></a>"
      ]
    },
    {
      "cell_type": "code",
      "execution_count": 135,
      "metadata": {
        "id": "DKYWdkooabyc"
      },
      "outputs": [],
      "source": [
        "#Let's import the data:\n",
        "import numpy as np\n",
        "import pandas as pd\n",
        "import json"
      ]
    },
    {
      "cell_type": "code",
      "source": [
        "data = open(r'/content/result.json',encoding = 'utf8')"
      ],
      "metadata": {
        "id": "Ab0aagWSavx8"
      },
      "execution_count": 136,
      "outputs": []
    },
    {
      "cell_type": "code",
      "source": [
        "data = json.load(data)"
      ],
      "metadata": {
        "id": "eLGiVmg4bjRE"
      },
      "execution_count": 137,
      "outputs": []
    },
    {
      "cell_type": "code",
      "source": [
        "data = data['messages'][6394:]"
      ],
      "metadata": {
        "id": "54NZuA7lb3zr"
      },
      "execution_count": 138,
      "outputs": []
    },
    {
      "cell_type": "code",
      "source": [
        "data[0]['text'][2]"
      ],
      "metadata": {
        "id": "nbPYiw4Yb8_r",
        "colab": {
          "base_uri": "https://localhost:8080/",
          "height": 88
        },
        "outputId": "b86cff9b-64be-467c-8850-123498287eb0"
      },
      "execution_count": 139,
      "outputs": [
        {
          "output_type": "execute_result",
          "data": {
            "text/plain": [
              "'\\n🎓 تخصصی\\n📒 ۱- موازنه انرژی و موارد ۲- استاتیک و مقاومت مصالح\\n\\nمنابع آموزش\\n  ┘ فایل پاورپوینت یا پی دی اف می دهد\\n\\nحضور و غیاب\\n  ┘ حضور مهم است و تاثیر مستقیم دارد\\n\\nمنابع معرفی شده برای امتحان کافی است؟\\n  ┘ بله\\n\\nوضعیت نمره دادن:\\n  ┘ دست باز و با ارفاق\\n\\nارزیابی دانشجو:\\n  ┤ پیوستگی و یکپارچگی تدریس: 10\\n  ┤ دانش عمومی: 10\\n  ┤ توانایی انتقال مطالب و نکات مهم درس: 9\\n  ┤ نحوه مدیریت کلاس(نظم و زمان): 8\\n  ┤ پاسخگویی(حضوری و غیرحضوری): 10\\n  ┤ آداب و رفتار اجتماعی با دانشجویان: 10\\n\\nراه ارتباطی:\\n  ┘ چیزی ندارم\\n\\nترمی که دانشجو با این استاد کلاس داشته:\\n  ┘ مهر 99\\n\\nتوضیحات:\\n  ┘ استاد خیلی محترم و خوبیه و به دنبال اینه که با نمره بالا پاس کنه دانشجورو\\n~~~~~~~~~~~~~~~~~\\nبرای ثبت معرفی استاد به ربات زیر پیام بدید\\n'"
            ],
            "application/vnd.google.colaboratory.intrinsic+json": {
              "type": "string"
            }
          },
          "metadata": {},
          "execution_count": 139
        }
      ]
    },
    {
      "cell_type": "code",
      "source": [
        "bad_index = []\n",
        "for index,_ in enumerate(data):\n",
        "  try:\n",
        "    if not '┤' in data[index]['text'][2]:\n",
        "      bad_index.append(index)\n",
        "  except:\n",
        "    bad_index.append(index)"
      ],
      "metadata": {
        "id": "IJU53eagcRYk"
      },
      "execution_count": 140,
      "outputs": []
    },
    {
      "cell_type": "code",
      "source": [
        "clean_data = [data[index]['text'][2] for index,_ in enumerate(data) if index not in bad_index]"
      ],
      "metadata": {
        "id": "z-ujg15bddpt"
      },
      "execution_count": 141,
      "outputs": []
    },
    {
      "cell_type": "code",
      "source": [
        "for datum in clean_data:\n",
        "  assert '┤' in datum\n",
        "#Perfection!"
      ],
      "metadata": {
        "id": "Cv4c6YafgYnW"
      },
      "execution_count": 142,
      "outputs": []
    },
    {
      "cell_type": "code",
      "source": [
        "def Special_Character_Data_Clean_UP(data,character):\n",
        "  bad_index = []\n",
        "  for index,_ in enumerate(data):\n",
        "    try:\n",
        "      if not character in data[index]:\n",
        "        bad_index.append(index)\n",
        "    except:\n",
        "      bad_index.append(index)\n",
        "  clean_data = [data[index]['text'][2] for index,_ in enumerate(data) if index not in bad_index]\n",
        "  return clean_data\n"
      ],
      "metadata": {
        "id": "n_VtAGxmgf-X"
      },
      "execution_count": 143,
      "outputs": []
    },
    {
      "cell_type": "code",
      "source": [
        "clean_data[100]"
      ],
      "metadata": {
        "colab": {
          "base_uri": "https://localhost:8080/",
          "height": 88
        },
        "id": "MymdIgZxgnFx",
        "outputId": "092f9d49-62d7-4c61-b394-484410a70a51"
      },
      "execution_count": 144,
      "outputs": [
        {
          "output_type": "execute_result",
          "data": {
            "text/plain": [
              "'\\n🎓 تخصصی\\n📒 مدیریت مالی ۱ و مدیریت مالی ۲\\n\\nمنابع آموزش\\n  ┘ یک کتاب مرجع معرفی می کند\\n\\nحضور و غیاب\\n  ┘ یادم نمیاد\\n\\nمنابع معرفی شده برای امتحان کافی است؟\\n  ┘ بله\\n\\nوضعیت نمره دادن:\\n  ┘ دست باز و با ارفاق\\n\\nارزیابی دانشجو:\\n  ┤ پیوستگی و یکپارچگی تدریس: 10\\n  ┤ دانش عمومی: 10\\n  ┤ توانایی انتقال مطالب و نکات مهم درس: 10\\n  ┤ نحوه مدیریت کلاس(نظم و زمان): 10\\n  ┤ پاسخگویی(حضوری و غیرحضوری): 10\\n  ┤ آداب و رفتار اجتماعی با دانشجویان: 10\\n\\nراه ارتباطی:\\n  ┘ چیزی ندارم\\n\\nترمی که دانشجو با این استاد کلاس داشته:\\n  ┘ مهر 99\\n\\nتوضیحات:\\n  ┘ استاد ملک نجاد فوق العاده استاد دلسوزی هستن تو این شرایط ک کلاسا مجازی هست زیاد دانشجورو اذیت نمیکنن صد درصد توصیه میکنم باهاشون بردارید\\n~~~~~~~~~~~~~~~~~\\nبرای ثبت معرفی استاد به ربات زیر پیام بدید\\n'"
            ],
            "application/vnd.google.colaboratory.intrinsic+json": {
              "type": "string"
            }
          },
          "metadata": {},
          "execution_count": 144
        }
      ]
    },
    {
      "cell_type": "code",
      "source": [
        "clean_data[0].split('\\n') #The Score is located in messages containing the character '┤'"
      ],
      "metadata": {
        "colab": {
          "base_uri": "https://localhost:8080/"
        },
        "id": "Roqrf9dChO6E",
        "outputId": "aea8b48c-734b-44ec-d692-ca07a56b61d9"
      },
      "execution_count": 145,
      "outputs": [
        {
          "output_type": "execute_result",
          "data": {
            "text/plain": [
              "['',\n",
              " '🎓 تخصصی',\n",
              " '📒 ۱- موازنه انرژی و موارد ۲- استاتیک و مقاومت مصالح',\n",
              " '',\n",
              " 'منابع آموزش',\n",
              " '  ┘ فایل پاورپوینت یا پی دی اف می دهد',\n",
              " '',\n",
              " 'حضور و غیاب',\n",
              " '  ┘ حضور مهم است و تاثیر مستقیم دارد',\n",
              " '',\n",
              " 'منابع معرفی شده برای امتحان کافی است؟',\n",
              " '  ┘ بله',\n",
              " '',\n",
              " 'وضعیت نمره دادن:',\n",
              " '  ┘ دست باز و با ارفاق',\n",
              " '',\n",
              " 'ارزیابی دانشجو:',\n",
              " '  ┤ پیوستگی و یکپارچگی تدریس: 10',\n",
              " '  ┤ دانش عمومی: 10',\n",
              " '  ┤ توانایی انتقال مطالب و نکات مهم درس: 9',\n",
              " '  ┤ نحوه مدیریت کلاس(نظم و زمان): 8',\n",
              " '  ┤ پاسخگویی(حضوری و غیرحضوری): 10',\n",
              " '  ┤ آداب و رفتار اجتماعی با دانشجویان: 10',\n",
              " '',\n",
              " 'راه ارتباطی:',\n",
              " '  ┘ چیزی ندارم',\n",
              " '',\n",
              " 'ترمی که دانشجو با این استاد کلاس داشته:',\n",
              " '  ┘ مهر 99',\n",
              " '',\n",
              " 'توضیحات:',\n",
              " '  ┘ استاد خیلی محترم و خوبیه و به دنبال اینه که با نمره بالا پاس کنه دانشجورو',\n",
              " '~~~~~~~~~~~~~~~~~',\n",
              " 'برای ثبت معرفی استاد به ربات زیر پیام بدید',\n",
              " '']"
            ]
          },
          "metadata": {},
          "execution_count": 145
        }
      ]
    },
    {
      "cell_type": "code",
      "source": [
        "my_data = []\n",
        "for msg in clean_data:\n",
        "  split_list = msg.split('\\n')\n",
        "  s = dict()\n",
        "  s['score'] = [i for i in split_list if '┤' in i]\n",
        "  for index,j in enumerate(split_list):\n",
        "    if j == 'توضیحات:':\n",
        "      s['comment'] = split_list[index + 1]\n",
        "  my_data.append(s)"
      ],
      "metadata": {
        "id": "_w2uxcpDksQB"
      },
      "execution_count": 146,
      "outputs": []
    },
    {
      "cell_type": "code",
      "source": [
        "my_data[915] #Perfection!"
      ],
      "metadata": {
        "colab": {
          "base_uri": "https://localhost:8080/"
        },
        "id": "VYopGd1_hT4u",
        "outputId": "acce8c44-c56a-4209-fa44-73bc90e401fd"
      },
      "execution_count": 147,
      "outputs": [
        {
          "output_type": "execute_result",
          "data": {
            "text/plain": [
              "{'score': ['  ┤ پیوستگی و یکپارچگی تدریس: 10',\n",
              "  '  ┤ دانش عمومی: 10',\n",
              "  '  ┤ توانایی انتقال مطالب و نکات مهم درس: 10',\n",
              "  '  ┤ نحوه مدیریت کلاس(نظم و زمان): 10',\n",
              "  '  ┤ پاسخگویی(حضوری و غیرحضوری): 10',\n",
              "  '  ┤ آداب و رفتار اجتماعی با دانشجویان: 10'],\n",
              " 'comment': '  ┘ استاد یاسینی عالین، فرق بین بچه ها نمیذارن و به همه نمره عالی دادن و حتی بخاطر حجم امتحانا بهمون کلی وقت اضافه دادن برای فرستادن کارها'}"
            ]
          },
          "metadata": {},
          "execution_count": 147
        }
      ]
    },
    {
      "cell_type": "code",
      "source": [
        "#let's calculate each score and put it back!\n",
        "for j in my_data[410]['score']:\n",
        "  print(j.split(':')[1])"
      ],
      "metadata": {
        "colab": {
          "base_uri": "https://localhost:8080/"
        },
        "id": "Diprvh8vlgLT",
        "outputId": "1d371fa2-cc22-41b9-a696-06bfb7840006"
      },
      "execution_count": 148,
      "outputs": [
        {
          "output_type": "stream",
          "name": "stdout",
          "text": [
            " 10\n",
            " 10\n",
            " 10\n",
            " 10\n",
            " 10\n",
            " 10\n"
          ]
        }
      ]
    },
    {
      "cell_type": "code",
      "source": [
        "new_data = my_data.copy()"
      ],
      "metadata": {
        "id": "d7rt0t1gpkvN"
      },
      "execution_count": 149,
      "outputs": []
    },
    {
      "cell_type": "code",
      "source": [
        "# We have stumbled upon a great way to calculate the score:\n",
        "for index,_ in enumerate(new_data):\n",
        "  score = 0\n",
        "  for j in new_data[index]['score']:\n",
        "    score += int(j.split(':')[1])\n",
        "  score /= 6\n",
        "  new_data[index]['score'] = score\n"
      ],
      "metadata": {
        "id": "sGRpgwe9nwwX"
      },
      "execution_count": 150,
      "outputs": []
    },
    {
      "cell_type": "code",
      "source": [
        "n = 6140\n",
        "new_data[n],my_data[n] #The averaging was done correctly."
      ],
      "metadata": {
        "colab": {
          "base_uri": "https://localhost:8080/"
        },
        "id": "3dT18Fw4ptNe",
        "outputId": "17e9fd3f-56dc-46a3-aabf-33a5434b33ca"
      },
      "execution_count": 127,
      "outputs": [
        {
          "output_type": "execute_result",
          "data": {
            "text/plain": [
              "({'score': 10.0, 'comment': ['  ', ' استاد عالی هست']},\n",
              " {'score': ['  ┤ پیوستگی و یکپارچگی تدریس: 10',\n",
              "   '  ┤ دانش عمومی: 10',\n",
              "   '  ┤ توانایی انتقال مطالب و نکات مهم درس: 10',\n",
              "   '  ┤ نحوه مدیریت کلاس(نظم و زمان): 10',\n",
              "   '  ┤ پاسخگویی(حضوری و غیرحضوری): 10',\n",
              "   '  ┤ آداب و رفتار اجتماعی با دانشجویان: 10'],\n",
              "  'comment': '  ┘ استاد عالی هست'})"
            ]
          },
          "metadata": {},
          "execution_count": 127
        }
      ]
    },
    {
      "cell_type": "code",
      "source": [
        "#We need to clean the comments, some comments are not useful, some messages are missing the comment field, some scores are also adhoc."
      ],
      "metadata": {
        "id": "vjsOcHsepzoG"
      },
      "execution_count": 103,
      "outputs": []
    },
    {
      "cell_type": "code",
      "source": [
        "count = 0\n",
        "for index,item in enumerate(new_data):\n",
        "  if len(item) < 2:\n",
        "    count += 1"
      ],
      "metadata": {
        "id": "ydDWmWNAsSQJ"
      },
      "execution_count": 107,
      "outputs": []
    },
    {
      "cell_type": "code",
      "source": [
        "count"
      ],
      "metadata": {
        "colab": {
          "base_uri": "https://localhost:8080/"
        },
        "id": "lKk4oX46tVvW",
        "outputId": "0a314c28-e5e6-4f59-8160-48c6ce11a393"
      },
      "execution_count": 108,
      "outputs": [
        {
          "output_type": "execute_result",
          "data": {
            "text/plain": [
              "433"
            ]
          },
          "metadata": {},
          "execution_count": 108
        }
      ]
    },
    {
      "cell_type": "code",
      "source": [
        "super_new_data = []\n",
        "for index,item in enumerate(new_data):\n",
        "  if len(item) == 2:\n",
        "    super_new_data.append(item)"
      ],
      "metadata": {
        "id": "4iawfpVBtwtd"
      },
      "execution_count": 151,
      "outputs": []
    },
    {
      "cell_type": "code",
      "source": [
        "count = 0\n",
        "for index,item in enumerate(super_new_data):\n",
        "  if len(item) < 2:\n",
        "    count += 1\n",
        "count"
      ],
      "metadata": {
        "colab": {
          "base_uri": "https://localhost:8080/"
        },
        "id": "mAuAKCq9uG7b",
        "outputId": "0b84c3cf-3bfa-4924-ee12-4b9a4f0216c8"
      },
      "execution_count": 111,
      "outputs": [
        {
          "output_type": "execute_result",
          "data": {
            "text/plain": [
              "0"
            ]
          },
          "metadata": {},
          "execution_count": 111
        }
      ]
    },
    {
      "cell_type": "code",
      "source": [
        "for item in super_new_data:\n",
        "  assert '┘' in item['comment']\n",
        "#all comments have this at the end!"
      ],
      "metadata": {
        "id": "7osfoM5uuJc2"
      },
      "execution_count": 114,
      "outputs": []
    },
    {
      "cell_type": "code",
      "source": [
        "super_new_data[0]['comment'].split('')"
      ],
      "metadata": {
        "colab": {
          "base_uri": "https://localhost:8080/",
          "height": 36
        },
        "id": "p-D_7NhevYim",
        "outputId": "e26f2771-79a5-475f-9d2c-ebfd91ee69f8"
      },
      "execution_count": 152,
      "outputs": [
        {
          "output_type": "execute_result",
          "data": {
            "text/plain": [
              "'  ┘ استاد خیلی محترم و خوبیه و به دنبال اینه که با نمره بالا پاس کنه دانشجورو'"
            ],
            "application/vnd.google.colaboratory.intrinsic+json": {
              "type": "string"
            }
          },
          "metadata": {},
          "execution_count": 152
        }
      ]
    },
    {
      "cell_type": "code",
      "source": [
        "mega_super_new_data = []\n",
        "for index,_ in enumerate(super_new_data):\n",
        "  s = super_new_data[index]\n",
        "  s['comment'] = s['comment'].split('┘')[1]\n",
        "  mega_super_new_data.append(s)"
      ],
      "metadata": {
        "id": "9ujsGlQyuNLr"
      },
      "execution_count": 153,
      "outputs": []
    },
    {
      "cell_type": "code",
      "source": [
        "mega_super_new_data[172] #Very Nice!"
      ],
      "metadata": {
        "colab": {
          "base_uri": "https://localhost:8080/"
        },
        "id": "cUdgaaqzvERI",
        "outputId": "29d4917c-627f-49a7-d5ee-6721f01d3aee"
      },
      "execution_count": 158,
      "outputs": [
        {
          "output_type": "execute_result",
          "data": {
            "text/plain": [
              "{'score': 2.6666666666666665,\n",
              " 'comment': ' اگه اعصابتون براتون مهمه و میخواید که توی درستوت پیشرفت کنید به هیچ عنوان این استاد رو انتخاب نکنید'}"
            ]
          },
          "metadata": {},
          "execution_count": 158
        }
      ]
    },
    {
      "cell_type": "code",
      "source": [
        "#let's remove the 'چیزی اضافه ایی نیست'"
      ],
      "metadata": {
        "id": "tEO0amnXvFAQ"
      },
      "execution_count": 159,
      "outputs": []
    },
    {
      "cell_type": "code",
      "source": [
        "output = []\n",
        "for index,_ in enumerate(mega_super_new_data):\n",
        "  s = mega_super_new_data[index]\n",
        "  if s['comment'] != ' چیزی اضافه ایی نیست':\n",
        "    output.append(s)"
      ],
      "metadata": {
        "id": "IyA22aHMxL98"
      },
      "execution_count": 164,
      "outputs": []
    },
    {
      "cell_type": "code",
      "source": [
        "df = pd.DataFrame(output)\n",
        "df"
      ],
      "metadata": {
        "colab": {
          "base_uri": "https://localhost:8080/",
          "height": 424
        },
        "id": "o9vNC0M2xNHj",
        "outputId": "0d89afb8-635c-4e31-ce2c-b8d5a7a0fc19"
      },
      "execution_count": 166,
      "outputs": [
        {
          "output_type": "execute_result",
          "data": {
            "text/plain": [
              "          score                                            comment\n",
              "0      9.500000   استاد خیلی محترم و خوبیه و به دنبال اینه که ب...\n",
              "1      1.000000                               اصلا استاد خوبی نیست\n",
              "2     10.000000   واقعا استاد نازنینیه باهاشون بردارید حتماااااااا\n",
              "3      8.166667                 حتما باهاشون بردارید پشیمون نمیشید\n",
              "4      9.500000   به حضور وغیاب به شدت حساس  غیبت  با دلیل موجه...\n",
              "...         ...                                                ...\n",
              "4898  10.000000   بسیار استاد باشخصیت، فهمیده‌ و خوش اخلاقی هستند.\n",
              "4899  10.000000       استاد بسیار بسیار باسواد و بامعلوماتی  هستند\n",
              "4900   8.833333                                  استاد  خوبی هستند\n",
              "4901   7.666667         زیاد جالب تدریس نمیکنن ، اما خوب نمره میدن\n",
              "4902   4.666667   خيليييي سريع و تند تند درس ميدن تقريبا هيچي ن...\n",
              "\n",
              "[4903 rows x 2 columns]"
            ],
            "text/html": [
              "\n",
              "  <div id=\"df-06504545-3808-4ae9-8f73-d3240d75de50\">\n",
              "    <div class=\"colab-df-container\">\n",
              "      <div>\n",
              "<style scoped>\n",
              "    .dataframe tbody tr th:only-of-type {\n",
              "        vertical-align: middle;\n",
              "    }\n",
              "\n",
              "    .dataframe tbody tr th {\n",
              "        vertical-align: top;\n",
              "    }\n",
              "\n",
              "    .dataframe thead th {\n",
              "        text-align: right;\n",
              "    }\n",
              "</style>\n",
              "<table border=\"1\" class=\"dataframe\">\n",
              "  <thead>\n",
              "    <tr style=\"text-align: right;\">\n",
              "      <th></th>\n",
              "      <th>score</th>\n",
              "      <th>comment</th>\n",
              "    </tr>\n",
              "  </thead>\n",
              "  <tbody>\n",
              "    <tr>\n",
              "      <th>0</th>\n",
              "      <td>9.500000</td>\n",
              "      <td>استاد خیلی محترم و خوبیه و به دنبال اینه که ب...</td>\n",
              "    </tr>\n",
              "    <tr>\n",
              "      <th>1</th>\n",
              "      <td>1.000000</td>\n",
              "      <td>اصلا استاد خوبی نیست</td>\n",
              "    </tr>\n",
              "    <tr>\n",
              "      <th>2</th>\n",
              "      <td>10.000000</td>\n",
              "      <td>واقعا استاد نازنینیه باهاشون بردارید حتماااااااا</td>\n",
              "    </tr>\n",
              "    <tr>\n",
              "      <th>3</th>\n",
              "      <td>8.166667</td>\n",
              "      <td>حتما باهاشون بردارید پشیمون نمیشید</td>\n",
              "    </tr>\n",
              "    <tr>\n",
              "      <th>4</th>\n",
              "      <td>9.500000</td>\n",
              "      <td>به حضور وغیاب به شدت حساس  غیبت  با دلیل موجه...</td>\n",
              "    </tr>\n",
              "    <tr>\n",
              "      <th>...</th>\n",
              "      <td>...</td>\n",
              "      <td>...</td>\n",
              "    </tr>\n",
              "    <tr>\n",
              "      <th>4898</th>\n",
              "      <td>10.000000</td>\n",
              "      <td>بسیار استاد باشخصیت، فهمیده‌ و خوش اخلاقی هستند.</td>\n",
              "    </tr>\n",
              "    <tr>\n",
              "      <th>4899</th>\n",
              "      <td>10.000000</td>\n",
              "      <td>استاد بسیار بسیار باسواد و بامعلوماتی  هستند</td>\n",
              "    </tr>\n",
              "    <tr>\n",
              "      <th>4900</th>\n",
              "      <td>8.833333</td>\n",
              "      <td>استاد  خوبی هستند</td>\n",
              "    </tr>\n",
              "    <tr>\n",
              "      <th>4901</th>\n",
              "      <td>7.666667</td>\n",
              "      <td>زیاد جالب تدریس نمیکنن ، اما خوب نمره میدن</td>\n",
              "    </tr>\n",
              "    <tr>\n",
              "      <th>4902</th>\n",
              "      <td>4.666667</td>\n",
              "      <td>خيليييي سريع و تند تند درس ميدن تقريبا هيچي ن...</td>\n",
              "    </tr>\n",
              "  </tbody>\n",
              "</table>\n",
              "<p>4903 rows × 2 columns</p>\n",
              "</div>\n",
              "      <button class=\"colab-df-convert\" onclick=\"convertToInteractive('df-06504545-3808-4ae9-8f73-d3240d75de50')\"\n",
              "              title=\"Convert this dataframe to an interactive table.\"\n",
              "              style=\"display:none;\">\n",
              "        \n",
              "  <svg xmlns=\"http://www.w3.org/2000/svg\" height=\"24px\"viewBox=\"0 0 24 24\"\n",
              "       width=\"24px\">\n",
              "    <path d=\"M0 0h24v24H0V0z\" fill=\"none\"/>\n",
              "    <path d=\"M18.56 5.44l.94 2.06.94-2.06 2.06-.94-2.06-.94-.94-2.06-.94 2.06-2.06.94zm-11 1L8.5 8.5l.94-2.06 2.06-.94-2.06-.94L8.5 2.5l-.94 2.06-2.06.94zm10 10l.94 2.06.94-2.06 2.06-.94-2.06-.94-.94-2.06-.94 2.06-2.06.94z\"/><path d=\"M17.41 7.96l-1.37-1.37c-.4-.4-.92-.59-1.43-.59-.52 0-1.04.2-1.43.59L10.3 9.45l-7.72 7.72c-.78.78-.78 2.05 0 2.83L4 21.41c.39.39.9.59 1.41.59.51 0 1.02-.2 1.41-.59l7.78-7.78 2.81-2.81c.8-.78.8-2.07 0-2.86zM5.41 20L4 18.59l7.72-7.72 1.47 1.35L5.41 20z\"/>\n",
              "  </svg>\n",
              "      </button>\n",
              "      \n",
              "  <style>\n",
              "    .colab-df-container {\n",
              "      display:flex;\n",
              "      flex-wrap:wrap;\n",
              "      gap: 12px;\n",
              "    }\n",
              "\n",
              "    .colab-df-convert {\n",
              "      background-color: #E8F0FE;\n",
              "      border: none;\n",
              "      border-radius: 50%;\n",
              "      cursor: pointer;\n",
              "      display: none;\n",
              "      fill: #1967D2;\n",
              "      height: 32px;\n",
              "      padding: 0 0 0 0;\n",
              "      width: 32px;\n",
              "    }\n",
              "\n",
              "    .colab-df-convert:hover {\n",
              "      background-color: #E2EBFA;\n",
              "      box-shadow: 0px 1px 2px rgba(60, 64, 67, 0.3), 0px 1px 3px 1px rgba(60, 64, 67, 0.15);\n",
              "      fill: #174EA6;\n",
              "    }\n",
              "\n",
              "    [theme=dark] .colab-df-convert {\n",
              "      background-color: #3B4455;\n",
              "      fill: #D2E3FC;\n",
              "    }\n",
              "\n",
              "    [theme=dark] .colab-df-convert:hover {\n",
              "      background-color: #434B5C;\n",
              "      box-shadow: 0px 1px 3px 1px rgba(0, 0, 0, 0.15);\n",
              "      filter: drop-shadow(0px 1px 2px rgba(0, 0, 0, 0.3));\n",
              "      fill: #FFFFFF;\n",
              "    }\n",
              "  </style>\n",
              "\n",
              "      <script>\n",
              "        const buttonEl =\n",
              "          document.querySelector('#df-06504545-3808-4ae9-8f73-d3240d75de50 button.colab-df-convert');\n",
              "        buttonEl.style.display =\n",
              "          google.colab.kernel.accessAllowed ? 'block' : 'none';\n",
              "\n",
              "        async function convertToInteractive(key) {\n",
              "          const element = document.querySelector('#df-06504545-3808-4ae9-8f73-d3240d75de50');\n",
              "          const dataTable =\n",
              "            await google.colab.kernel.invokeFunction('convertToInteractive',\n",
              "                                                     [key], {});\n",
              "          if (!dataTable) return;\n",
              "\n",
              "          const docLinkHtml = 'Like what you see? Visit the ' +\n",
              "            '<a target=\"_blank\" href=https://colab.research.google.com/notebooks/data_table.ipynb>data table notebook</a>'\n",
              "            + ' to learn more about interactive tables.';\n",
              "          element.innerHTML = '';\n",
              "          dataTable['output_type'] = 'display_data';\n",
              "          await google.colab.output.renderOutput(dataTable, element);\n",
              "          const docLink = document.createElement('div');\n",
              "          docLink.innerHTML = docLinkHtml;\n",
              "          element.appendChild(docLink);\n",
              "        }\n",
              "      </script>\n",
              "    </div>\n",
              "  </div>\n",
              "  "
            ]
          },
          "metadata": {},
          "execution_count": 166
        }
      ]
    },
    {
      "cell_type": "code",
      "source": [
        "df.to_csv('Instructor Sentiment Score.csv',encoding = 'utf-8-sig') #The Encoding is here to ensure that the charcters show up correctly!"
      ],
      "metadata": {
        "id": "Bk-H87Imx_Df"
      },
      "execution_count": 171,
      "outputs": []
    },
    {
      "cell_type": "code",
      "source": [],
      "metadata": {
        "id": "0bPHeCB9y2LN"
      },
      "execution_count": null,
      "outputs": []
    }
  ]
}